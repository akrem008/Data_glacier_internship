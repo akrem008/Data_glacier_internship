{
  "nbformat": 4,
  "nbformat_minor": 0,
  "metadata": {
    "colab": {
      "provenance": [],
      "collapsed_sections": [],
      "include_colab_link": true
    },
    "kernelspec": {
      "name": "python3",
      "display_name": "Python 3"
    },
    "language_info": {
      "name": "python"
    }
  },
  "cells": [
    {
      "cell_type": "markdown",
      "metadata": {
        "id": "view-in-github",
        "colab_type": "text"
      },
      "source": [
        "<a href=\"https://colab.research.google.com/github/akrem008/Data_glacier_internship/blob/main/Week6.ipynb\" target=\"_parent\"><img src=\"https://colab.research.google.com/assets/colab-badge.svg\" alt=\"Open In Colab\"/></a>"
      ]
    },
    {
      "cell_type": "markdown",
      "source": [
        "Dataset source: 15 Million Chess Games from Lichess (2013-2014) from Kaggle"
      ],
      "metadata": {
        "id": "X0j-nXlwO5E8"
      }
    },
    {
      "cell_type": "markdown",
      "source": [
        "We are going to read and manipulate a large CSV file with several different methods and determine computational efficiency. We will be using pandas, Modin, Ray, and Dask."
      ],
      "metadata": {
        "id": "mOD4S39qRZt8"
      }
    },
    {
      "cell_type": "code",
      "source": [
        "%%writefile testutility.py\n",
        "import logging\n",
        "import os\n",
        "import subprocess\n",
        "import yaml\n",
        "import pandas as pd\n",
        "import datetime \n",
        "import gc\n",
        "import re\n",
        "\n",
        "\n",
        "################\n",
        "# File Reading #\n",
        "################\n",
        "\n",
        "def read_config_file(filepath):\n",
        "    with open(filepath, 'r') as stream:\n",
        "        try:\n",
        "            return yaml.safe_load(stream)\n",
        "        except yaml.YAMLError as exc:\n",
        "            logging.error(exc)\n",
        "\n",
        "\n",
        "def replacer(string, char):\n",
        "    pattern = char + '{2,}'\n",
        "    string = re.sub(pattern, char, string) \n",
        "    return string\n",
        "\n",
        "def col_header_val(df,table_config):\n",
        "    '''\n",
        "    replace whitespaces in the column\n",
        "    and standardized column names\n",
        "    '''\n",
        "    df.columns = df.columns.str.lower()\n",
        "    df.columns = df.columns.str.replace('[^\\w]','_',regex=True)\n",
        "    df.columns = list(map(lambda x: x.strip('_'), list(df.columns)))\n",
        "    df.columns = list(map(lambda x: replacer(x,'_'), list(df.columns)))\n",
        "    expected_col = list(map(lambda x: x.lower(),  table_config['columns']))\n",
        "    expected_col.sort()\n",
        "    df.columns =list(map(lambda x: x.lower(), list(df.columns)))\n",
        "    df = df.reindex(sorted(df.columns), axis=1)\n",
        "    if len(df.columns) == len(expected_col) and list(expected_col)  == list(df.columns):\n",
        "        print(\"column name and column length validation passed\")\n",
        "        return 1\n",
        "    else:\n",
        "        print(\"column name and column length validation failed\")\n",
        "        mismatched_columns_file = list(set(df.columns).difference(expected_col))\n",
        "        print(\"Following File columns are not in the YAML file\",mismatched_columns_file)\n",
        "        missing_YAML_file = list(set(expected_col).difference(df.columns))\n",
        "        print(\"Following YAML columns are not in the file uploaded\",missing_YAML_file)\n",
        "        logging.info(f'df columns: {df.columns}')\n",
        "        logging.info(f'expected columns: {expected_col}')\n",
        "        return 0\n"
      ],
      "metadata": {
        "id": "vKwNsHvRRs9P",
        "colab": {
          "base_uri": "https://localhost:8080/"
        },
        "outputId": "f5c07001-9d36-422d-9239-3dd3fc1559e8"
      },
      "execution_count": 1,
      "outputs": [
        {
          "output_type": "stream",
          "name": "stdout",
          "text": [
            "Writing testutility.py\n"
          ]
        }
      ]
    },
    {
      "cell_type": "markdown",
      "source": [
        "Writing YAML File\n"
      ],
      "metadata": {
        "id": "X4KexH5E_PQ1"
      }
    },
    {
      "cell_type": "code",
      "source": [
        "%%writefile file.yaml\n",
        "file_type: csv\n",
        "dataset_name: Lichess_2013_2014_Complete\n",
        "file_name: Lichess_2013_2014_Complete\n",
        "table_name: edsurv\n",
        "inbound_delimiter: \",\"\n",
        "outbound_delimiter: \"|\"\n",
        "skip_leading_rows: 1\n",
        "columns: \n",
        "    - WhiteElo\n",
        "    - BlackElo\n",
        "    - WhiteName\n",
        "    - BlackName\n",
        "    - Winner\n",
        "    - Termination\n",
        "    - Site\n",
        "    - Day\n",
        "    - Month\n",
        "    - Year\n",
        "    - InitialTime\n",
        "    - Increment\n",
        "    - TimeControl\n",
        "    - Opening\n",
        "    - ECO\n",
        "    - Number_of_Moves"
      ],
      "metadata": {
        "colab": {
          "base_uri": "https://localhost:8080/"
        },
        "id": "n1KXZzmO_NP7",
        "outputId": "c3bc906e-a8c8-49f8-e483-84aa4ed8ed06"
      },
      "execution_count": 2,
      "outputs": [
        {
          "output_type": "stream",
          "name": "stdout",
          "text": [
            "Writing file.yaml\n"
          ]
        }
      ]
    },
    {
      "cell_type": "code",
      "source": [
        "# Read config file\n",
        "import testutility as util\n",
        "config_data = util.read_config_file(\"file.yaml\")"
      ],
      "metadata": {
        "id": "YcgnKsnu_r8x"
      },
      "execution_count": 3,
      "outputs": []
    },
    {
      "cell_type": "code",
      "source": [
        "config_data"
      ],
      "metadata": {
        "colab": {
          "base_uri": "https://localhost:8080/"
        },
        "id": "H_K-Td-TBlaA",
        "outputId": "b19bf22f-b113-42e1-fe3c-9bf38b8a31bd"
      },
      "execution_count": 4,
      "outputs": [
        {
          "output_type": "execute_result",
          "data": {
            "text/plain": [
              "{'file_type': 'csv',\n",
              " 'dataset_name': 'Lichess_2013_2014_Complete',\n",
              " 'file_name': 'Lichess_2013_2014_Complete',\n",
              " 'table_name': 'edsurv',\n",
              " 'inbound_delimiter': ',',\n",
              " 'outbound_delimiter': '|',\n",
              " 'skip_leading_rows': 1,\n",
              " 'columns': ['WhiteElo',\n",
              "  'BlackElo',\n",
              "  'WhiteName',\n",
              "  'BlackName',\n",
              "  'Winner',\n",
              "  'Termination',\n",
              "  'Site',\n",
              "  'Day',\n",
              "  'Month',\n",
              "  'Year',\n",
              "  'InitialTime',\n",
              "  'Increment',\n",
              "  'TimeControl',\n",
              "  'Opening',\n",
              "  'ECO',\n",
              "  'Number_of_Moves']}"
            ]
          },
          "metadata": {},
          "execution_count": 4
        }
      ]
    },
    {
      "cell_type": "code",
      "source": [
        "# Normal reading process of the file\n",
        "import pandas as pd\n",
        "df_sample = pd.read_csv(\"Lichess_2013_2014_Complete.csv\",delimiter=',')\n",
        "df_sample.head()"
      ],
      "metadata": {
        "colab": {
          "base_uri": "https://localhost:8080/",
          "height": 565
        },
        "id": "dNLXSjZZBm63",
        "outputId": "5a9588ea-a9e3-40cd-b35f-855bde915b5a"
      },
      "execution_count": 6,
      "outputs": [
        {
          "output_type": "execute_result",
          "data": {
            "text/plain": [
              "   WhiteElo  BlackElo         WhiteName          BlackName Winner Termination  \\\n",
              "0      1639      1403             BFG9k            mamalak  White      Normal   \n",
              "1      1654      1919    Desmond_Wilson          savinka59  White      Normal   \n",
              "2      1643      1747     Kozakmamay007  VanillaShamanilla  White      Normal   \n",
              "3      1824      1973  Naitero_Nagasaki                800  Black      Normal   \n",
              "4      1765      1815      nichiren1967   Naitero_Nagasaki  Black      Normal   \n",
              "\n",
              "                           Site  Day  Month  Year  InitialTime  Increment  \\\n",
              "0  https://lichess.org/j1dkb5dw   31     12  2012          600          8   \n",
              "1  https://lichess.org/a9tcp02g   31     12  2012          480          2   \n",
              "2  https://lichess.org/szom2tog   31     12  2012          420         17   \n",
              "3  https://lichess.org/rklpc7mk   31     12  2012           60          1   \n",
              "4  https://lichess.org/1xb3os63   31     12  2012           60          1   \n",
              "\n",
              "  TimeControl                                      Opening  ECO  \\\n",
              "0       Rapid             French Defense: Normal Variation  C00   \n",
              "1       Rapid  Queen's Pawn Game: Colle System, Anti-Colle  D04   \n",
              "2       Rapid         Four Knights Game: Italian Variation  C50   \n",
              "3      Bullet         Caro-Kann Defense: Goldman Variation  B12   \n",
              "4      Bullet     French Defense: La Bourdonnais Variation  C00   \n",
              "\n",
              "   Number_of_Moves  \n",
              "0             13.0  \n",
              "1             18.0  \n",
              "2             11.0  \n",
              "3             47.0  \n",
              "4             23.0  "
            ],
            "text/html": [
              "\n",
              "  <div id=\"df-19c22035-07c1-4d92-a68e-c1bb018637f5\">\n",
              "    <div class=\"colab-df-container\">\n",
              "      <div>\n",
              "<style scoped>\n",
              "    .dataframe tbody tr th:only-of-type {\n",
              "        vertical-align: middle;\n",
              "    }\n",
              "\n",
              "    .dataframe tbody tr th {\n",
              "        vertical-align: top;\n",
              "    }\n",
              "\n",
              "    .dataframe thead th {\n",
              "        text-align: right;\n",
              "    }\n",
              "</style>\n",
              "<table border=\"1\" class=\"dataframe\">\n",
              "  <thead>\n",
              "    <tr style=\"text-align: right;\">\n",
              "      <th></th>\n",
              "      <th>WhiteElo</th>\n",
              "      <th>BlackElo</th>\n",
              "      <th>WhiteName</th>\n",
              "      <th>BlackName</th>\n",
              "      <th>Winner</th>\n",
              "      <th>Termination</th>\n",
              "      <th>Site</th>\n",
              "      <th>Day</th>\n",
              "      <th>Month</th>\n",
              "      <th>Year</th>\n",
              "      <th>InitialTime</th>\n",
              "      <th>Increment</th>\n",
              "      <th>TimeControl</th>\n",
              "      <th>Opening</th>\n",
              "      <th>ECO</th>\n",
              "      <th>Number_of_Moves</th>\n",
              "    </tr>\n",
              "  </thead>\n",
              "  <tbody>\n",
              "    <tr>\n",
              "      <th>0</th>\n",
              "      <td>1639</td>\n",
              "      <td>1403</td>\n",
              "      <td>BFG9k</td>\n",
              "      <td>mamalak</td>\n",
              "      <td>White</td>\n",
              "      <td>Normal</td>\n",
              "      <td>https://lichess.org/j1dkb5dw</td>\n",
              "      <td>31</td>\n",
              "      <td>12</td>\n",
              "      <td>2012</td>\n",
              "      <td>600</td>\n",
              "      <td>8</td>\n",
              "      <td>Rapid</td>\n",
              "      <td>French Defense: Normal Variation</td>\n",
              "      <td>C00</td>\n",
              "      <td>13.0</td>\n",
              "    </tr>\n",
              "    <tr>\n",
              "      <th>1</th>\n",
              "      <td>1654</td>\n",
              "      <td>1919</td>\n",
              "      <td>Desmond_Wilson</td>\n",
              "      <td>savinka59</td>\n",
              "      <td>White</td>\n",
              "      <td>Normal</td>\n",
              "      <td>https://lichess.org/a9tcp02g</td>\n",
              "      <td>31</td>\n",
              "      <td>12</td>\n",
              "      <td>2012</td>\n",
              "      <td>480</td>\n",
              "      <td>2</td>\n",
              "      <td>Rapid</td>\n",
              "      <td>Queen's Pawn Game: Colle System, Anti-Colle</td>\n",
              "      <td>D04</td>\n",
              "      <td>18.0</td>\n",
              "    </tr>\n",
              "    <tr>\n",
              "      <th>2</th>\n",
              "      <td>1643</td>\n",
              "      <td>1747</td>\n",
              "      <td>Kozakmamay007</td>\n",
              "      <td>VanillaShamanilla</td>\n",
              "      <td>White</td>\n",
              "      <td>Normal</td>\n",
              "      <td>https://lichess.org/szom2tog</td>\n",
              "      <td>31</td>\n",
              "      <td>12</td>\n",
              "      <td>2012</td>\n",
              "      <td>420</td>\n",
              "      <td>17</td>\n",
              "      <td>Rapid</td>\n",
              "      <td>Four Knights Game: Italian Variation</td>\n",
              "      <td>C50</td>\n",
              "      <td>11.0</td>\n",
              "    </tr>\n",
              "    <tr>\n",
              "      <th>3</th>\n",
              "      <td>1824</td>\n",
              "      <td>1973</td>\n",
              "      <td>Naitero_Nagasaki</td>\n",
              "      <td>800</td>\n",
              "      <td>Black</td>\n",
              "      <td>Normal</td>\n",
              "      <td>https://lichess.org/rklpc7mk</td>\n",
              "      <td>31</td>\n",
              "      <td>12</td>\n",
              "      <td>2012</td>\n",
              "      <td>60</td>\n",
              "      <td>1</td>\n",
              "      <td>Bullet</td>\n",
              "      <td>Caro-Kann Defense: Goldman Variation</td>\n",
              "      <td>B12</td>\n",
              "      <td>47.0</td>\n",
              "    </tr>\n",
              "    <tr>\n",
              "      <th>4</th>\n",
              "      <td>1765</td>\n",
              "      <td>1815</td>\n",
              "      <td>nichiren1967</td>\n",
              "      <td>Naitero_Nagasaki</td>\n",
              "      <td>Black</td>\n",
              "      <td>Normal</td>\n",
              "      <td>https://lichess.org/1xb3os63</td>\n",
              "      <td>31</td>\n",
              "      <td>12</td>\n",
              "      <td>2012</td>\n",
              "      <td>60</td>\n",
              "      <td>1</td>\n",
              "      <td>Bullet</td>\n",
              "      <td>French Defense: La Bourdonnais Variation</td>\n",
              "      <td>C00</td>\n",
              "      <td>23.0</td>\n",
              "    </tr>\n",
              "  </tbody>\n",
              "</table>\n",
              "</div>\n",
              "      <button class=\"colab-df-convert\" onclick=\"convertToInteractive('df-19c22035-07c1-4d92-a68e-c1bb018637f5')\"\n",
              "              title=\"Convert this dataframe to an interactive table.\"\n",
              "              style=\"display:none;\">\n",
              "        \n",
              "  <svg xmlns=\"http://www.w3.org/2000/svg\" height=\"24px\"viewBox=\"0 0 24 24\"\n",
              "       width=\"24px\">\n",
              "    <path d=\"M0 0h24v24H0V0z\" fill=\"none\"/>\n",
              "    <path d=\"M18.56 5.44l.94 2.06.94-2.06 2.06-.94-2.06-.94-.94-2.06-.94 2.06-2.06.94zm-11 1L8.5 8.5l.94-2.06 2.06-.94-2.06-.94L8.5 2.5l-.94 2.06-2.06.94zm10 10l.94 2.06.94-2.06 2.06-.94-2.06-.94-.94-2.06-.94 2.06-2.06.94z\"/><path d=\"M17.41 7.96l-1.37-1.37c-.4-.4-.92-.59-1.43-.59-.52 0-1.04.2-1.43.59L10.3 9.45l-7.72 7.72c-.78.78-.78 2.05 0 2.83L4 21.41c.39.39.9.59 1.41.59.51 0 1.02-.2 1.41-.59l7.78-7.78 2.81-2.81c.8-.78.8-2.07 0-2.86zM5.41 20L4 18.59l7.72-7.72 1.47 1.35L5.41 20z\"/>\n",
              "  </svg>\n",
              "      </button>\n",
              "      \n",
              "  <style>\n",
              "    .colab-df-container {\n",
              "      display:flex;\n",
              "      flex-wrap:wrap;\n",
              "      gap: 12px;\n",
              "    }\n",
              "\n",
              "    .colab-df-convert {\n",
              "      background-color: #E8F0FE;\n",
              "      border: none;\n",
              "      border-radius: 50%;\n",
              "      cursor: pointer;\n",
              "      display: none;\n",
              "      fill: #1967D2;\n",
              "      height: 32px;\n",
              "      padding: 0 0 0 0;\n",
              "      width: 32px;\n",
              "    }\n",
              "\n",
              "    .colab-df-convert:hover {\n",
              "      background-color: #E2EBFA;\n",
              "      box-shadow: 0px 1px 2px rgba(60, 64, 67, 0.3), 0px 1px 3px 1px rgba(60, 64, 67, 0.15);\n",
              "      fill: #174EA6;\n",
              "    }\n",
              "\n",
              "    [theme=dark] .colab-df-convert {\n",
              "      background-color: #3B4455;\n",
              "      fill: #D2E3FC;\n",
              "    }\n",
              "\n",
              "    [theme=dark] .colab-df-convert:hover {\n",
              "      background-color: #434B5C;\n",
              "      box-shadow: 0px 1px 3px 1px rgba(0, 0, 0, 0.15);\n",
              "      filter: drop-shadow(0px 1px 2px rgba(0, 0, 0, 0.3));\n",
              "      fill: #FFFFFF;\n",
              "    }\n",
              "  </style>\n",
              "\n",
              "      <script>\n",
              "        const buttonEl =\n",
              "          document.querySelector('#df-19c22035-07c1-4d92-a68e-c1bb018637f5 button.colab-df-convert');\n",
              "        buttonEl.style.display =\n",
              "          google.colab.kernel.accessAllowed ? 'block' : 'none';\n",
              "\n",
              "        async function convertToInteractive(key) {\n",
              "          const element = document.querySelector('#df-19c22035-07c1-4d92-a68e-c1bb018637f5');\n",
              "          const dataTable =\n",
              "            await google.colab.kernel.invokeFunction('convertToInteractive',\n",
              "                                                     [key], {});\n",
              "          if (!dataTable) return;\n",
              "\n",
              "          const docLinkHtml = 'Like what you see? Visit the ' +\n",
              "            '<a target=\"_blank\" href=https://colab.research.google.com/notebooks/data_table.ipynb>data table notebook</a>'\n",
              "            + ' to learn more about interactive tables.';\n",
              "          element.innerHTML = '';\n",
              "          dataTable['output_type'] = 'display_data';\n",
              "          await google.colab.output.renderOutput(dataTable, element);\n",
              "          const docLink = document.createElement('div');\n",
              "          docLink.innerHTML = docLinkHtml;\n",
              "          element.appendChild(docLink);\n",
              "        }\n",
              "      </script>\n",
              "    </div>\n",
              "  </div>\n",
              "  "
            ]
          },
          "metadata": {},
          "execution_count": 6
        }
      ]
    },
    {
      "cell_type": "markdown",
      "source": [
        "Pandas readcsv completed: 33s"
      ],
      "metadata": {
        "id": "t0JNtTFSah8F"
      }
    },
    {
      "cell_type": "code",
      "source": [
        "# read the file using config file\n",
        "file_type = config_data['file_type']\n",
        "source_file = \"./\" + config_data['file_name'] + f'.{file_type}'\n",
        "#print(\"\",source_file)\n",
        "df = pd.read_csv(source_file,config_data['inbound_delimiter'])\n",
        "df.head()"
      ],
      "metadata": {
        "id": "fg-S1PbSBuWz",
        "colab": {
          "base_uri": "https://localhost:8080/",
          "height": 600
        },
        "outputId": "9dc7107d-e7d3-4e61-ccf6-94df962555f2"
      },
      "execution_count": 7,
      "outputs": [
        {
          "output_type": "stream",
          "name": "stderr",
          "text": [
            "/usr/local/lib/python3.7/dist-packages/IPython/core/interactiveshell.py:3326: FutureWarning: In a future version of pandas all arguments of read_csv except for the argument 'filepath_or_buffer' will be keyword-only\n",
            "  exec(code_obj, self.user_global_ns, self.user_ns)\n"
          ]
        },
        {
          "output_type": "execute_result",
          "data": {
            "text/plain": [
              "   WhiteElo  BlackElo         WhiteName          BlackName Winner Termination  \\\n",
              "0      1639      1403             BFG9k            mamalak  White      Normal   \n",
              "1      1654      1919    Desmond_Wilson          savinka59  White      Normal   \n",
              "2      1643      1747     Kozakmamay007  VanillaShamanilla  White      Normal   \n",
              "3      1824      1973  Naitero_Nagasaki                800  Black      Normal   \n",
              "4      1765      1815      nichiren1967   Naitero_Nagasaki  Black      Normal   \n",
              "\n",
              "                           Site   Day  Month    Year  InitialTime  Increment  \\\n",
              "0  https://lichess.org/j1dkb5dw  31.0   12.0  2012.0        600.0        8.0   \n",
              "1  https://lichess.org/a9tcp02g  31.0   12.0  2012.0        480.0        2.0   \n",
              "2  https://lichess.org/szom2tog  31.0   12.0  2012.0        420.0       17.0   \n",
              "3  https://lichess.org/rklpc7mk  31.0   12.0  2012.0         60.0        1.0   \n",
              "4  https://lichess.org/1xb3os63  31.0   12.0  2012.0         60.0        1.0   \n",
              "\n",
              "  TimeControl                                      Opening  ECO  \\\n",
              "0       Rapid             French Defense: Normal Variation  C00   \n",
              "1       Rapid  Queen's Pawn Game: Colle System, Anti-Colle  D04   \n",
              "2       Rapid         Four Knights Game: Italian Variation  C50   \n",
              "3      Bullet         Caro-Kann Defense: Goldman Variation  B12   \n",
              "4      Bullet     French Defense: La Bourdonnais Variation  C00   \n",
              "\n",
              "   Number_of_Moves  \n",
              "0             13.0  \n",
              "1             18.0  \n",
              "2             11.0  \n",
              "3             47.0  \n",
              "4             23.0  "
            ],
            "text/html": [
              "\n",
              "  <div id=\"df-ff9bd083-42dd-4a99-b1d9-568314bdcdd1\">\n",
              "    <div class=\"colab-df-container\">\n",
              "      <div>\n",
              "<style scoped>\n",
              "    .dataframe tbody tr th:only-of-type {\n",
              "        vertical-align: middle;\n",
              "    }\n",
              "\n",
              "    .dataframe tbody tr th {\n",
              "        vertical-align: top;\n",
              "    }\n",
              "\n",
              "    .dataframe thead th {\n",
              "        text-align: right;\n",
              "    }\n",
              "</style>\n",
              "<table border=\"1\" class=\"dataframe\">\n",
              "  <thead>\n",
              "    <tr style=\"text-align: right;\">\n",
              "      <th></th>\n",
              "      <th>WhiteElo</th>\n",
              "      <th>BlackElo</th>\n",
              "      <th>WhiteName</th>\n",
              "      <th>BlackName</th>\n",
              "      <th>Winner</th>\n",
              "      <th>Termination</th>\n",
              "      <th>Site</th>\n",
              "      <th>Day</th>\n",
              "      <th>Month</th>\n",
              "      <th>Year</th>\n",
              "      <th>InitialTime</th>\n",
              "      <th>Increment</th>\n",
              "      <th>TimeControl</th>\n",
              "      <th>Opening</th>\n",
              "      <th>ECO</th>\n",
              "      <th>Number_of_Moves</th>\n",
              "    </tr>\n",
              "  </thead>\n",
              "  <tbody>\n",
              "    <tr>\n",
              "      <th>0</th>\n",
              "      <td>1639</td>\n",
              "      <td>1403</td>\n",
              "      <td>BFG9k</td>\n",
              "      <td>mamalak</td>\n",
              "      <td>White</td>\n",
              "      <td>Normal</td>\n",
              "      <td>https://lichess.org/j1dkb5dw</td>\n",
              "      <td>31.0</td>\n",
              "      <td>12.0</td>\n",
              "      <td>2012.0</td>\n",
              "      <td>600.0</td>\n",
              "      <td>8.0</td>\n",
              "      <td>Rapid</td>\n",
              "      <td>French Defense: Normal Variation</td>\n",
              "      <td>C00</td>\n",
              "      <td>13.0</td>\n",
              "    </tr>\n",
              "    <tr>\n",
              "      <th>1</th>\n",
              "      <td>1654</td>\n",
              "      <td>1919</td>\n",
              "      <td>Desmond_Wilson</td>\n",
              "      <td>savinka59</td>\n",
              "      <td>White</td>\n",
              "      <td>Normal</td>\n",
              "      <td>https://lichess.org/a9tcp02g</td>\n",
              "      <td>31.0</td>\n",
              "      <td>12.0</td>\n",
              "      <td>2012.0</td>\n",
              "      <td>480.0</td>\n",
              "      <td>2.0</td>\n",
              "      <td>Rapid</td>\n",
              "      <td>Queen's Pawn Game: Colle System, Anti-Colle</td>\n",
              "      <td>D04</td>\n",
              "      <td>18.0</td>\n",
              "    </tr>\n",
              "    <tr>\n",
              "      <th>2</th>\n",
              "      <td>1643</td>\n",
              "      <td>1747</td>\n",
              "      <td>Kozakmamay007</td>\n",
              "      <td>VanillaShamanilla</td>\n",
              "      <td>White</td>\n",
              "      <td>Normal</td>\n",
              "      <td>https://lichess.org/szom2tog</td>\n",
              "      <td>31.0</td>\n",
              "      <td>12.0</td>\n",
              "      <td>2012.0</td>\n",
              "      <td>420.0</td>\n",
              "      <td>17.0</td>\n",
              "      <td>Rapid</td>\n",
              "      <td>Four Knights Game: Italian Variation</td>\n",
              "      <td>C50</td>\n",
              "      <td>11.0</td>\n",
              "    </tr>\n",
              "    <tr>\n",
              "      <th>3</th>\n",
              "      <td>1824</td>\n",
              "      <td>1973</td>\n",
              "      <td>Naitero_Nagasaki</td>\n",
              "      <td>800</td>\n",
              "      <td>Black</td>\n",
              "      <td>Normal</td>\n",
              "      <td>https://lichess.org/rklpc7mk</td>\n",
              "      <td>31.0</td>\n",
              "      <td>12.0</td>\n",
              "      <td>2012.0</td>\n",
              "      <td>60.0</td>\n",
              "      <td>1.0</td>\n",
              "      <td>Bullet</td>\n",
              "      <td>Caro-Kann Defense: Goldman Variation</td>\n",
              "      <td>B12</td>\n",
              "      <td>47.0</td>\n",
              "    </tr>\n",
              "    <tr>\n",
              "      <th>4</th>\n",
              "      <td>1765</td>\n",
              "      <td>1815</td>\n",
              "      <td>nichiren1967</td>\n",
              "      <td>Naitero_Nagasaki</td>\n",
              "      <td>Black</td>\n",
              "      <td>Normal</td>\n",
              "      <td>https://lichess.org/1xb3os63</td>\n",
              "      <td>31.0</td>\n",
              "      <td>12.0</td>\n",
              "      <td>2012.0</td>\n",
              "      <td>60.0</td>\n",
              "      <td>1.0</td>\n",
              "      <td>Bullet</td>\n",
              "      <td>French Defense: La Bourdonnais Variation</td>\n",
              "      <td>C00</td>\n",
              "      <td>23.0</td>\n",
              "    </tr>\n",
              "  </tbody>\n",
              "</table>\n",
              "</div>\n",
              "      <button class=\"colab-df-convert\" onclick=\"convertToInteractive('df-ff9bd083-42dd-4a99-b1d9-568314bdcdd1')\"\n",
              "              title=\"Convert this dataframe to an interactive table.\"\n",
              "              style=\"display:none;\">\n",
              "        \n",
              "  <svg xmlns=\"http://www.w3.org/2000/svg\" height=\"24px\"viewBox=\"0 0 24 24\"\n",
              "       width=\"24px\">\n",
              "    <path d=\"M0 0h24v24H0V0z\" fill=\"none\"/>\n",
              "    <path d=\"M18.56 5.44l.94 2.06.94-2.06 2.06-.94-2.06-.94-.94-2.06-.94 2.06-2.06.94zm-11 1L8.5 8.5l.94-2.06 2.06-.94-2.06-.94L8.5 2.5l-.94 2.06-2.06.94zm10 10l.94 2.06.94-2.06 2.06-.94-2.06-.94-.94-2.06-.94 2.06-2.06.94z\"/><path d=\"M17.41 7.96l-1.37-1.37c-.4-.4-.92-.59-1.43-.59-.52 0-1.04.2-1.43.59L10.3 9.45l-7.72 7.72c-.78.78-.78 2.05 0 2.83L4 21.41c.39.39.9.59 1.41.59.51 0 1.02-.2 1.41-.59l7.78-7.78 2.81-2.81c.8-.78.8-2.07 0-2.86zM5.41 20L4 18.59l7.72-7.72 1.47 1.35L5.41 20z\"/>\n",
              "  </svg>\n",
              "      </button>\n",
              "      \n",
              "  <style>\n",
              "    .colab-df-container {\n",
              "      display:flex;\n",
              "      flex-wrap:wrap;\n",
              "      gap: 12px;\n",
              "    }\n",
              "\n",
              "    .colab-df-convert {\n",
              "      background-color: #E8F0FE;\n",
              "      border: none;\n",
              "      border-radius: 50%;\n",
              "      cursor: pointer;\n",
              "      display: none;\n",
              "      fill: #1967D2;\n",
              "      height: 32px;\n",
              "      padding: 0 0 0 0;\n",
              "      width: 32px;\n",
              "    }\n",
              "\n",
              "    .colab-df-convert:hover {\n",
              "      background-color: #E2EBFA;\n",
              "      box-shadow: 0px 1px 2px rgba(60, 64, 67, 0.3), 0px 1px 3px 1px rgba(60, 64, 67, 0.15);\n",
              "      fill: #174EA6;\n",
              "    }\n",
              "\n",
              "    [theme=dark] .colab-df-convert {\n",
              "      background-color: #3B4455;\n",
              "      fill: #D2E3FC;\n",
              "    }\n",
              "\n",
              "    [theme=dark] .colab-df-convert:hover {\n",
              "      background-color: #434B5C;\n",
              "      box-shadow: 0px 1px 3px 1px rgba(0, 0, 0, 0.15);\n",
              "      filter: drop-shadow(0px 1px 2px rgba(0, 0, 0, 0.3));\n",
              "      fill: #FFFFFF;\n",
              "    }\n",
              "  </style>\n",
              "\n",
              "      <script>\n",
              "        const buttonEl =\n",
              "          document.querySelector('#df-ff9bd083-42dd-4a99-b1d9-568314bdcdd1 button.colab-df-convert');\n",
              "        buttonEl.style.display =\n",
              "          google.colab.kernel.accessAllowed ? 'block' : 'none';\n",
              "\n",
              "        async function convertToInteractive(key) {\n",
              "          const element = document.querySelector('#df-ff9bd083-42dd-4a99-b1d9-568314bdcdd1');\n",
              "          const dataTable =\n",
              "            await google.colab.kernel.invokeFunction('convertToInteractive',\n",
              "                                                     [key], {});\n",
              "          if (!dataTable) return;\n",
              "\n",
              "          const docLinkHtml = 'Like what you see? Visit the ' +\n",
              "            '<a target=\"_blank\" href=https://colab.research.google.com/notebooks/data_table.ipynb>data table notebook</a>'\n",
              "            + ' to learn more about interactive tables.';\n",
              "          element.innerHTML = '';\n",
              "          dataTable['output_type'] = 'display_data';\n",
              "          await google.colab.output.renderOutput(dataTable, element);\n",
              "          const docLink = document.createElement('div');\n",
              "          docLink.innerHTML = docLinkHtml;\n",
              "          element.appendChild(docLink);\n",
              "        }\n",
              "      </script>\n",
              "    </div>\n",
              "  </div>\n",
              "  "
            ]
          },
          "metadata": {},
          "execution_count": 7
        }
      ]
    },
    {
      "cell_type": "markdown",
      "source": [
        "Reading File with YAML Config: 29s"
      ],
      "metadata": {
        "id": "oN67SR2uXjf7"
      }
    },
    {
      "cell_type": "code",
      "source": [
        "#validate the header of the file\n",
        "util.col_header_val(df,config_data)"
      ],
      "metadata": {
        "colab": {
          "base_uri": "https://localhost:8080/"
        },
        "id": "BDW-rcpEFad7",
        "outputId": "c9dfedda-2915-4ae3-cb68-7733178793ac"
      },
      "execution_count": 8,
      "outputs": [
        {
          "output_type": "stream",
          "name": "stdout",
          "text": [
            "column name and column length validation passed\n"
          ]
        },
        {
          "output_type": "execute_result",
          "data": {
            "text/plain": [
              "1"
            ]
          },
          "metadata": {},
          "execution_count": 8
        }
      ]
    },
    {
      "cell_type": "markdown",
      "source": [
        "Basic Validation Confirmed. All columns were converted to lower case and special characters were handled."
      ],
      "metadata": {
        "id": "hbeCqCADYXn7"
      }
    },
    {
      "cell_type": "code",
      "source": [
        "print(\"columns of files are:\" ,df.columns)\n",
        "print(\"columns of YAML are:\" ,config_data['columns'])"
      ],
      "metadata": {
        "colab": {
          "base_uri": "https://localhost:8080/"
        },
        "id": "VzIey8XCGrsC",
        "outputId": "1770a516-7801-4b5f-bd45-7ab4a37cb658"
      },
      "execution_count": 9,
      "outputs": [
        {
          "output_type": "stream",
          "name": "stdout",
          "text": [
            "columns of files are: Index(['whiteelo', 'blackelo', 'whitename', 'blackname', 'winner',\n",
            "       'termination', 'site', 'day', 'month', 'year', 'initialtime',\n",
            "       'increment', 'timecontrol', 'opening', 'eco', 'number_of_moves'],\n",
            "      dtype='object')\n",
            "columns of YAML are: ['WhiteElo', 'BlackElo', 'WhiteName', 'BlackName', 'Winner', 'Termination', 'Site', 'Day', 'Month', 'Year', 'InitialTime', 'Increment', 'TimeControl', 'Opening', 'ECO', 'Number_of_Moves']\n"
          ]
        }
      ]
    },
    {
      "cell_type": "markdown",
      "source": [
        "Converting File with pipeline delimiter"
      ],
      "metadata": {
        "id": "xEmfajnFHtYC"
      }
    },
    {
      "cell_type": "code",
      "source": [
        "import csv\n",
        "\n",
        "with open('Lichess_2013_2014_Complete.csv') as fin:\n",
        "    # newline='' prevents extra newlines when using Python 3 on Windows\n",
        "    with open('OutputFile.txt', 'w', newline='') as fout:\n",
        "        reader = csv.DictReader(fin, delimiter=',')\n",
        "        writer = csv.DictWriter(fout, reader.fieldnames, delimiter='|')\n",
        "        writer.writeheader()\n",
        "        writer.writerows(reader)"
      ],
      "metadata": {
        "id": "ZyIvpePNKwaP"
      },
      "execution_count": 10,
      "outputs": []
    },
    {
      "cell_type": "markdown",
      "source": [
        "Time to convert to '|' delimiter: 2 mins 55 s\n",
        "\n"
      ],
      "metadata": {
        "id": "ORx_4GBTMENi"
      }
    },
    {
      "cell_type": "markdown",
      "source": [
        "Convert output.txt to gz format"
      ],
      "metadata": {
        "id": "_p7xqH_JNA7E"
      }
    },
    {
      "cell_type": "code",
      "source": [
        "import gzip\n",
        "\n",
        "with open(\"OutputFile.txt\", 'rb') as orig_file:\n",
        "    with gzip.open(\"OutputFile.txt.gz\", 'wb') as zipped_file:\n",
        "        zipped_file.writelines(orig_file)"
      ],
      "metadata": {
        "id": "hqe7eB1uNvnT"
      },
      "execution_count": 11,
      "outputs": []
    },
    {
      "cell_type": "markdown",
      "source": [
        "Converting to gz format: 2m 26s"
      ],
      "metadata": {
        "id": "chcCdOz8N1o-"
      }
    },
    {
      "cell_type": "markdown",
      "source": [
        "Now we will try reading file with other methods and see computational efficiency."
      ],
      "metadata": {
        "id": "BCWviVVEPIp6"
      }
    },
    {
      "cell_type": "code",
      "source": [
        "#Using Dask\n",
        "!python -m pip install \"dask[complete]\"\n",
        "import dask\n",
        "import dask.dataframe as dd "
      ],
      "metadata": {
        "colab": {
          "base_uri": "https://localhost:8080/"
        },
        "id": "jdueED06ZIBS",
        "outputId": "42fcd76d-661d-4776-9d89-13fc33bdea8d"
      },
      "execution_count": 12,
      "outputs": [
        {
          "output_type": "stream",
          "name": "stdout",
          "text": [
            "Looking in indexes: https://pypi.org/simple, https://us-python.pkg.dev/colab-wheels/public/simple/\n",
            "Requirement already satisfied: dask[complete] in /usr/local/lib/python3.7/dist-packages (2022.2.0)\n",
            "Requirement already satisfied: pyyaml>=5.3.1 in /usr/local/lib/python3.7/dist-packages (from dask[complete]) (6.0)\n",
            "Requirement already satisfied: toolz>=0.8.2 in /usr/local/lib/python3.7/dist-packages (from dask[complete]) (0.12.0)\n",
            "Requirement already satisfied: partd>=0.3.10 in /usr/local/lib/python3.7/dist-packages (from dask[complete]) (1.3.0)\n",
            "Requirement already satisfied: packaging>=20.0 in /usr/local/lib/python3.7/dist-packages (from dask[complete]) (21.3)\n",
            "Requirement already satisfied: cloudpickle>=1.1.1 in /usr/local/lib/python3.7/dist-packages (from dask[complete]) (1.5.0)\n",
            "Requirement already satisfied: fsspec>=0.6.0 in /usr/local/lib/python3.7/dist-packages (from dask[complete]) (2022.8.1)\n",
            "Requirement already satisfied: jinja2 in /usr/local/lib/python3.7/dist-packages (from dask[complete]) (2.11.3)\n",
            "Requirement already satisfied: bokeh>=2.1.1 in /usr/local/lib/python3.7/dist-packages (from dask[complete]) (2.3.3)\n",
            "Requirement already satisfied: distributed==2022.02.0 in /usr/local/lib/python3.7/dist-packages (from dask[complete]) (2022.2.0)\n",
            "Requirement already satisfied: pandas>=1.0 in /usr/local/lib/python3.7/dist-packages (from dask[complete]) (1.3.5)\n",
            "Requirement already satisfied: numpy>=1.18 in /usr/local/lib/python3.7/dist-packages (from dask[complete]) (1.21.6)\n",
            "Requirement already satisfied: setuptools in /usr/local/lib/python3.7/dist-packages (from distributed==2022.02.0->dask[complete]) (57.4.0)\n",
            "Requirement already satisfied: tblib>=1.6.0 in /usr/local/lib/python3.7/dist-packages (from distributed==2022.02.0->dask[complete]) (1.7.0)\n",
            "Requirement already satisfied: msgpack>=0.6.0 in /usr/local/lib/python3.7/dist-packages (from distributed==2022.02.0->dask[complete]) (1.0.4)\n",
            "Requirement already satisfied: psutil>=5.0 in /usr/local/lib/python3.7/dist-packages (from distributed==2022.02.0->dask[complete]) (5.4.8)\n",
            "Requirement already satisfied: zict>=0.1.3 in /usr/local/lib/python3.7/dist-packages (from distributed==2022.02.0->dask[complete]) (2.2.0)\n",
            "Requirement already satisfied: tornado>=5 in /usr/local/lib/python3.7/dist-packages (from distributed==2022.02.0->dask[complete]) (5.1.1)\n",
            "Requirement already satisfied: click>=6.6 in /usr/local/lib/python3.7/dist-packages (from distributed==2022.02.0->dask[complete]) (7.1.2)\n",
            "Requirement already satisfied: sortedcontainers!=2.0.0,!=2.0.1 in /usr/local/lib/python3.7/dist-packages (from distributed==2022.02.0->dask[complete]) (2.4.0)\n",
            "Requirement already satisfied: typing-extensions>=3.7.4 in /usr/local/lib/python3.7/dist-packages (from bokeh>=2.1.1->dask[complete]) (4.1.1)\n",
            "Requirement already satisfied: python-dateutil>=2.1 in /usr/local/lib/python3.7/dist-packages (from bokeh>=2.1.1->dask[complete]) (2.8.2)\n",
            "Requirement already satisfied: pillow>=7.1.0 in /usr/local/lib/python3.7/dist-packages (from bokeh>=2.1.1->dask[complete]) (7.1.2)\n",
            "Requirement already satisfied: MarkupSafe>=0.23 in /usr/local/lib/python3.7/dist-packages (from jinja2->dask[complete]) (2.0.1)\n",
            "Requirement already satisfied: pyparsing!=3.0.5,>=2.0.2 in /usr/local/lib/python3.7/dist-packages (from packaging>=20.0->dask[complete]) (3.0.9)\n",
            "Requirement already satisfied: pytz>=2017.3 in /usr/local/lib/python3.7/dist-packages (from pandas>=1.0->dask[complete]) (2022.2.1)\n",
            "Requirement already satisfied: locket in /usr/local/lib/python3.7/dist-packages (from partd>=0.3.10->dask[complete]) (1.0.0)\n",
            "Requirement already satisfied: six>=1.5 in /usr/local/lib/python3.7/dist-packages (from python-dateutil>=2.1->bokeh>=2.1.1->dask[complete]) (1.15.0)\n",
            "Requirement already satisfied: heapdict in /usr/local/lib/python3.7/dist-packages (from zict>=0.1.3->distributed==2022.02.0->dask[complete]) (1.0.1)\n"
          ]
        }
      ]
    },
    {
      "cell_type": "code",
      "source": [
        "df = dd.read_csv('Lichess_2013_2014_Complete.csv')\n",
        "df.head()"
      ],
      "metadata": {
        "colab": {
          "base_uri": "https://localhost:8080/",
          "height": 565
        },
        "id": "xk-OUQg1ZdXa",
        "outputId": "d9b0d7dc-5dc3-4efe-d0d8-ccfb1dc6c94a"
      },
      "execution_count": 21,
      "outputs": [
        {
          "output_type": "execute_result",
          "data": {
            "text/plain": [
              "   WhiteElo  BlackElo         WhiteName          BlackName Winner Termination  \\\n",
              "0      1639      1403             BFG9k            mamalak  White      Normal   \n",
              "1      1654      1919    Desmond_Wilson          savinka59  White      Normal   \n",
              "2      1643      1747     Kozakmamay007  VanillaShamanilla  White      Normal   \n",
              "3      1824      1973  Naitero_Nagasaki                800  Black      Normal   \n",
              "4      1765      1815      nichiren1967   Naitero_Nagasaki  Black      Normal   \n",
              "\n",
              "                           Site  Day  Month  Year  InitialTime  Increment  \\\n",
              "0  https://lichess.org/j1dkb5dw   31     12  2012          600          8   \n",
              "1  https://lichess.org/a9tcp02g   31     12  2012          480          2   \n",
              "2  https://lichess.org/szom2tog   31     12  2012          420         17   \n",
              "3  https://lichess.org/rklpc7mk   31     12  2012           60          1   \n",
              "4  https://lichess.org/1xb3os63   31     12  2012           60          1   \n",
              "\n",
              "  TimeControl                                      Opening  ECO  \\\n",
              "0       Rapid             French Defense: Normal Variation  C00   \n",
              "1       Rapid  Queen's Pawn Game: Colle System, Anti-Colle  D04   \n",
              "2       Rapid         Four Knights Game: Italian Variation  C50   \n",
              "3      Bullet         Caro-Kann Defense: Goldman Variation  B12   \n",
              "4      Bullet     French Defense: La Bourdonnais Variation  C00   \n",
              "\n",
              "   Number_of_Moves  \n",
              "0               13  \n",
              "1               18  \n",
              "2               11  \n",
              "3               47  \n",
              "4               23  "
            ],
            "text/html": [
              "\n",
              "  <div id=\"df-000a7639-0619-4a75-92a8-0ecdfd96650e\">\n",
              "    <div class=\"colab-df-container\">\n",
              "      <div>\n",
              "<style scoped>\n",
              "    .dataframe tbody tr th:only-of-type {\n",
              "        vertical-align: middle;\n",
              "    }\n",
              "\n",
              "    .dataframe tbody tr th {\n",
              "        vertical-align: top;\n",
              "    }\n",
              "\n",
              "    .dataframe thead th {\n",
              "        text-align: right;\n",
              "    }\n",
              "</style>\n",
              "<table border=\"1\" class=\"dataframe\">\n",
              "  <thead>\n",
              "    <tr style=\"text-align: right;\">\n",
              "      <th></th>\n",
              "      <th>WhiteElo</th>\n",
              "      <th>BlackElo</th>\n",
              "      <th>WhiteName</th>\n",
              "      <th>BlackName</th>\n",
              "      <th>Winner</th>\n",
              "      <th>Termination</th>\n",
              "      <th>Site</th>\n",
              "      <th>Day</th>\n",
              "      <th>Month</th>\n",
              "      <th>Year</th>\n",
              "      <th>InitialTime</th>\n",
              "      <th>Increment</th>\n",
              "      <th>TimeControl</th>\n",
              "      <th>Opening</th>\n",
              "      <th>ECO</th>\n",
              "      <th>Number_of_Moves</th>\n",
              "    </tr>\n",
              "  </thead>\n",
              "  <tbody>\n",
              "    <tr>\n",
              "      <th>0</th>\n",
              "      <td>1639</td>\n",
              "      <td>1403</td>\n",
              "      <td>BFG9k</td>\n",
              "      <td>mamalak</td>\n",
              "      <td>White</td>\n",
              "      <td>Normal</td>\n",
              "      <td>https://lichess.org/j1dkb5dw</td>\n",
              "      <td>31</td>\n",
              "      <td>12</td>\n",
              "      <td>2012</td>\n",
              "      <td>600</td>\n",
              "      <td>8</td>\n",
              "      <td>Rapid</td>\n",
              "      <td>French Defense: Normal Variation</td>\n",
              "      <td>C00</td>\n",
              "      <td>13</td>\n",
              "    </tr>\n",
              "    <tr>\n",
              "      <th>1</th>\n",
              "      <td>1654</td>\n",
              "      <td>1919</td>\n",
              "      <td>Desmond_Wilson</td>\n",
              "      <td>savinka59</td>\n",
              "      <td>White</td>\n",
              "      <td>Normal</td>\n",
              "      <td>https://lichess.org/a9tcp02g</td>\n",
              "      <td>31</td>\n",
              "      <td>12</td>\n",
              "      <td>2012</td>\n",
              "      <td>480</td>\n",
              "      <td>2</td>\n",
              "      <td>Rapid</td>\n",
              "      <td>Queen's Pawn Game: Colle System, Anti-Colle</td>\n",
              "      <td>D04</td>\n",
              "      <td>18</td>\n",
              "    </tr>\n",
              "    <tr>\n",
              "      <th>2</th>\n",
              "      <td>1643</td>\n",
              "      <td>1747</td>\n",
              "      <td>Kozakmamay007</td>\n",
              "      <td>VanillaShamanilla</td>\n",
              "      <td>White</td>\n",
              "      <td>Normal</td>\n",
              "      <td>https://lichess.org/szom2tog</td>\n",
              "      <td>31</td>\n",
              "      <td>12</td>\n",
              "      <td>2012</td>\n",
              "      <td>420</td>\n",
              "      <td>17</td>\n",
              "      <td>Rapid</td>\n",
              "      <td>Four Knights Game: Italian Variation</td>\n",
              "      <td>C50</td>\n",
              "      <td>11</td>\n",
              "    </tr>\n",
              "    <tr>\n",
              "      <th>3</th>\n",
              "      <td>1824</td>\n",
              "      <td>1973</td>\n",
              "      <td>Naitero_Nagasaki</td>\n",
              "      <td>800</td>\n",
              "      <td>Black</td>\n",
              "      <td>Normal</td>\n",
              "      <td>https://lichess.org/rklpc7mk</td>\n",
              "      <td>31</td>\n",
              "      <td>12</td>\n",
              "      <td>2012</td>\n",
              "      <td>60</td>\n",
              "      <td>1</td>\n",
              "      <td>Bullet</td>\n",
              "      <td>Caro-Kann Defense: Goldman Variation</td>\n",
              "      <td>B12</td>\n",
              "      <td>47</td>\n",
              "    </tr>\n",
              "    <tr>\n",
              "      <th>4</th>\n",
              "      <td>1765</td>\n",
              "      <td>1815</td>\n",
              "      <td>nichiren1967</td>\n",
              "      <td>Naitero_Nagasaki</td>\n",
              "      <td>Black</td>\n",
              "      <td>Normal</td>\n",
              "      <td>https://lichess.org/1xb3os63</td>\n",
              "      <td>31</td>\n",
              "      <td>12</td>\n",
              "      <td>2012</td>\n",
              "      <td>60</td>\n",
              "      <td>1</td>\n",
              "      <td>Bullet</td>\n",
              "      <td>French Defense: La Bourdonnais Variation</td>\n",
              "      <td>C00</td>\n",
              "      <td>23</td>\n",
              "    </tr>\n",
              "  </tbody>\n",
              "</table>\n",
              "</div>\n",
              "      <button class=\"colab-df-convert\" onclick=\"convertToInteractive('df-000a7639-0619-4a75-92a8-0ecdfd96650e')\"\n",
              "              title=\"Convert this dataframe to an interactive table.\"\n",
              "              style=\"display:none;\">\n",
              "        \n",
              "  <svg xmlns=\"http://www.w3.org/2000/svg\" height=\"24px\"viewBox=\"0 0 24 24\"\n",
              "       width=\"24px\">\n",
              "    <path d=\"M0 0h24v24H0V0z\" fill=\"none\"/>\n",
              "    <path d=\"M18.56 5.44l.94 2.06.94-2.06 2.06-.94-2.06-.94-.94-2.06-.94 2.06-2.06.94zm-11 1L8.5 8.5l.94-2.06 2.06-.94-2.06-.94L8.5 2.5l-.94 2.06-2.06.94zm10 10l.94 2.06.94-2.06 2.06-.94-2.06-.94-.94-2.06-.94 2.06-2.06.94z\"/><path d=\"M17.41 7.96l-1.37-1.37c-.4-.4-.92-.59-1.43-.59-.52 0-1.04.2-1.43.59L10.3 9.45l-7.72 7.72c-.78.78-.78 2.05 0 2.83L4 21.41c.39.39.9.59 1.41.59.51 0 1.02-.2 1.41-.59l7.78-7.78 2.81-2.81c.8-.78.8-2.07 0-2.86zM5.41 20L4 18.59l7.72-7.72 1.47 1.35L5.41 20z\"/>\n",
              "  </svg>\n",
              "      </button>\n",
              "      \n",
              "  <style>\n",
              "    .colab-df-container {\n",
              "      display:flex;\n",
              "      flex-wrap:wrap;\n",
              "      gap: 12px;\n",
              "    }\n",
              "\n",
              "    .colab-df-convert {\n",
              "      background-color: #E8F0FE;\n",
              "      border: none;\n",
              "      border-radius: 50%;\n",
              "      cursor: pointer;\n",
              "      display: none;\n",
              "      fill: #1967D2;\n",
              "      height: 32px;\n",
              "      padding: 0 0 0 0;\n",
              "      width: 32px;\n",
              "    }\n",
              "\n",
              "    .colab-df-convert:hover {\n",
              "      background-color: #E2EBFA;\n",
              "      box-shadow: 0px 1px 2px rgba(60, 64, 67, 0.3), 0px 1px 3px 1px rgba(60, 64, 67, 0.15);\n",
              "      fill: #174EA6;\n",
              "    }\n",
              "\n",
              "    [theme=dark] .colab-df-convert {\n",
              "      background-color: #3B4455;\n",
              "      fill: #D2E3FC;\n",
              "    }\n",
              "\n",
              "    [theme=dark] .colab-df-convert:hover {\n",
              "      background-color: #434B5C;\n",
              "      box-shadow: 0px 1px 3px 1px rgba(0, 0, 0, 0.15);\n",
              "      filter: drop-shadow(0px 1px 2px rgba(0, 0, 0, 0.3));\n",
              "      fill: #FFFFFF;\n",
              "    }\n",
              "  </style>\n",
              "\n",
              "      <script>\n",
              "        const buttonEl =\n",
              "          document.querySelector('#df-000a7639-0619-4a75-92a8-0ecdfd96650e button.colab-df-convert');\n",
              "        buttonEl.style.display =\n",
              "          google.colab.kernel.accessAllowed ? 'block' : 'none';\n",
              "\n",
              "        async function convertToInteractive(key) {\n",
              "          const element = document.querySelector('#df-000a7639-0619-4a75-92a8-0ecdfd96650e');\n",
              "          const dataTable =\n",
              "            await google.colab.kernel.invokeFunction('convertToInteractive',\n",
              "                                                     [key], {});\n",
              "          if (!dataTable) return;\n",
              "\n",
              "          const docLinkHtml = 'Like what you see? Visit the ' +\n",
              "            '<a target=\"_blank\" href=https://colab.research.google.com/notebooks/data_table.ipynb>data table notebook</a>'\n",
              "            + ' to learn more about interactive tables.';\n",
              "          element.innerHTML = '';\n",
              "          dataTable['output_type'] = 'display_data';\n",
              "          await google.colab.output.renderOutput(dataTable, element);\n",
              "          const docLink = document.createElement('div');\n",
              "          docLink.innerHTML = docLinkHtml;\n",
              "          element.appendChild(docLink);\n",
              "        }\n",
              "      </script>\n",
              "    </div>\n",
              "  </div>\n",
              "  "
            ]
          },
          "metadata": {},
          "execution_count": 21
        }
      ]
    },
    {
      "cell_type": "markdown",
      "source": [
        "Dask read csv completed: 2s"
      ],
      "metadata": {
        "id": "DECg3VESaNXW"
      }
    },
    {
      "cell_type": "code",
      "source": [
        "!python -m pip install \"ray\""
      ],
      "metadata": {
        "colab": {
          "base_uri": "https://localhost:8080/"
        },
        "id": "mb-aRghYaSJO",
        "outputId": "abc9f974-4420-4e10-9192-42020a3026c8"
      },
      "execution_count": 14,
      "outputs": [
        {
          "output_type": "stream",
          "name": "stdout",
          "text": [
            "Looking in indexes: https://pypi.org/simple, https://us-python.pkg.dev/colab-wheels/public/simple/\n",
            "Collecting ray\n",
            "  Downloading ray-2.0.0-cp37-cp37m-manylinux2014_x86_64.whl (59.4 MB)\n",
            "\u001b[K     |████████████████████████████████| 59.4 MB 65 kB/s \n",
            "\u001b[?25hRequirement already satisfied: protobuf<4.0.0,>=3.15.3 in /usr/local/lib/python3.7/dist-packages (from ray) (3.17.3)\n",
            "Collecting virtualenv\n",
            "  Downloading virtualenv-20.16.5-py3-none-any.whl (8.8 MB)\n",
            "\u001b[K     |████████████████████████████████| 8.8 MB 31.8 MB/s \n",
            "\u001b[?25hRequirement already satisfied: frozenlist in /usr/local/lib/python3.7/dist-packages (from ray) (1.3.1)\n",
            "Collecting grpcio<=1.43.0,>=1.28.1\n",
            "  Downloading grpcio-1.43.0-cp37-cp37m-manylinux_2_17_x86_64.manylinux2014_x86_64.whl (4.1 MB)\n",
            "\u001b[K     |████████████████████████████████| 4.1 MB 39.0 MB/s \n",
            "\u001b[?25hRequirement already satisfied: filelock in /usr/local/lib/python3.7/dist-packages (from ray) (3.8.0)\n",
            "Requirement already satisfied: attrs in /usr/local/lib/python3.7/dist-packages (from ray) (22.1.0)\n",
            "Requirement already satisfied: pyyaml in /usr/local/lib/python3.7/dist-packages (from ray) (6.0)\n",
            "Requirement already satisfied: numpy>=1.16 in /usr/local/lib/python3.7/dist-packages (from ray) (1.21.6)\n",
            "Requirement already satisfied: typing-extensions in /usr/local/lib/python3.7/dist-packages (from ray) (4.1.1)\n",
            "Requirement already satisfied: msgpack<2.0.0,>=1.0.0 in /usr/local/lib/python3.7/dist-packages (from ray) (1.0.4)\n",
            "Requirement already satisfied: click<=8.0.4,>=7.0 in /usr/local/lib/python3.7/dist-packages (from ray) (7.1.2)\n",
            "Requirement already satisfied: requests in /usr/local/lib/python3.7/dist-packages (from ray) (2.23.0)\n",
            "Requirement already satisfied: jsonschema in /usr/local/lib/python3.7/dist-packages (from ray) (4.3.3)\n",
            "Requirement already satisfied: aiosignal in /usr/local/lib/python3.7/dist-packages (from ray) (1.2.0)\n",
            "Requirement already satisfied: six>=1.5.2 in /usr/local/lib/python3.7/dist-packages (from grpcio<=1.43.0,>=1.28.1->ray) (1.15.0)\n",
            "Requirement already satisfied: pyrsistent!=0.17.0,!=0.17.1,!=0.17.2,>=0.14.0 in /usr/local/lib/python3.7/dist-packages (from jsonschema->ray) (0.18.1)\n",
            "Requirement already satisfied: importlib-metadata in /usr/local/lib/python3.7/dist-packages (from jsonschema->ray) (4.12.0)\n",
            "Requirement already satisfied: importlib-resources>=1.4.0 in /usr/local/lib/python3.7/dist-packages (from jsonschema->ray) (5.9.0)\n",
            "Requirement already satisfied: zipp>=3.1.0 in /usr/local/lib/python3.7/dist-packages (from importlib-resources>=1.4.0->jsonschema->ray) (3.8.1)\n",
            "Requirement already satisfied: urllib3!=1.25.0,!=1.25.1,<1.26,>=1.21.1 in /usr/local/lib/python3.7/dist-packages (from requests->ray) (1.24.3)\n",
            "Requirement already satisfied: chardet<4,>=3.0.2 in /usr/local/lib/python3.7/dist-packages (from requests->ray) (3.0.4)\n",
            "Requirement already satisfied: idna<3,>=2.5 in /usr/local/lib/python3.7/dist-packages (from requests->ray) (2.10)\n",
            "Requirement already satisfied: certifi>=2017.4.17 in /usr/local/lib/python3.7/dist-packages (from requests->ray) (2022.6.15)\n",
            "Collecting platformdirs<3,>=2.4\n",
            "  Downloading platformdirs-2.5.2-py3-none-any.whl (14 kB)\n",
            "Collecting distlib<1,>=0.3.5\n",
            "  Downloading distlib-0.3.6-py2.py3-none-any.whl (468 kB)\n",
            "\u001b[K     |████████████████████████████████| 468 kB 55.5 MB/s \n",
            "\u001b[?25hInstalling collected packages: platformdirs, distlib, virtualenv, grpcio, ray\n",
            "  Attempting uninstall: grpcio\n",
            "    Found existing installation: grpcio 1.47.0\n",
            "    Uninstalling grpcio-1.47.0:\n",
            "      Successfully uninstalled grpcio-1.47.0\n",
            "Successfully installed distlib-0.3.6 grpcio-1.43.0 platformdirs-2.5.2 ray-2.0.0 virtualenv-20.16.5\n"
          ]
        }
      ]
    },
    {
      "cell_type": "code",
      "source": [
        "import ray\n",
        "ds = ray.data.read_csv(\"Lichess_2013_2014_Complete.csv\")\n",
        "ds.head()"
      ],
      "metadata": {
        "id": "XvN-lw4jbuQj",
        "colab": {
          "base_uri": "https://localhost:8080/",
          "height": 1000
        },
        "outputId": "b8e0f2d0-525a-46bd-9507-bd11204c2d4a"
      },
      "execution_count": 26,
      "outputs": [
        {
          "output_type": "stream",
          "name": "stderr",
          "text": [
            "\u001b[2m\u001b[36m(_execute_read_task pid=328)\u001b[0m 2022-09-12 14:27:34,137\tINFO worker.py:756 -- Task failed with retryable exception: TaskID(239c2f70c73fbf73ffffffffffffffffffffffff01000000).\n",
            "\u001b[2m\u001b[36m(_execute_read_task pid=328)\u001b[0m Traceback (most recent call last):\n",
            "\u001b[2m\u001b[36m(_execute_read_task pid=328)\u001b[0m   File \"python/ray/_raylet.pyx\", line 662, in ray._raylet.execute_task\n",
            "\u001b[2m\u001b[36m(_execute_read_task pid=328)\u001b[0m   File \"python/ray/_raylet.pyx\", line 666, in ray._raylet.execute_task\n",
            "\u001b[2m\u001b[36m(_execute_read_task pid=328)\u001b[0m   File \"/usr/local/lib/python3.7/dist-packages/ray/data/_internal/lazy_block_list.py\", line 576, in _execute_read_task\n",
            "\u001b[2m\u001b[36m(_execute_read_task pid=328)\u001b[0m     block = task()\n",
            "\u001b[2m\u001b[36m(_execute_read_task pid=328)\u001b[0m   File \"/usr/local/lib/python3.7/dist-packages/ray/data/datasource/datasource.py\", line 202, in __call__\n",
            "\u001b[2m\u001b[36m(_execute_read_task pid=328)\u001b[0m     for block in result:\n",
            "\u001b[2m\u001b[36m(_execute_read_task pid=328)\u001b[0m   File \"/usr/local/lib/python3.7/dist-packages/ray/data/datasource/file_based_datasource.py\", line 427, in read_files\n",
            "\u001b[2m\u001b[36m(_execute_read_task pid=328)\u001b[0m     for data in read_stream(f, read_path, **reader_args):\n",
            "\u001b[2m\u001b[36m(_execute_read_task pid=328)\u001b[0m   File \"/usr/local/lib/python3.7/dist-packages/ray/data/datasource/csv_datasource.py\", line 42, in _read_stream\n",
            "\u001b[2m\u001b[36m(_execute_read_task pid=328)\u001b[0m     batch = reader.read_next_batch()\n",
            "\u001b[2m\u001b[36m(_execute_read_task pid=328)\u001b[0m   File \"pyarrow/ipc.pxi\", line 574, in pyarrow.lib.RecordBatchReader.read_next_batch\n",
            "\u001b[2m\u001b[36m(_execute_read_task pid=328)\u001b[0m   File \"pyarrow/error.pxi\", line 99, in pyarrow.lib.check_status\n",
            "\u001b[2m\u001b[36m(_execute_read_task pid=328)\u001b[0m pyarrow.lib.ArrowInvalid: CSV parse error: Row #2627299: Expected 16 columns, got 4: 1861,1745,Nuaghma,patri\n",
            "\u001b[2m\u001b[36m(_execute_read_task pid=328)\u001b[0m 2022-09-12 14:27:41,107\tINFO worker.py:756 -- Task failed with retryable exception: TaskID(239c2f70c73fbf73ffffffffffffffffffffffff01000000).\n",
            "\u001b[2m\u001b[36m(_execute_read_task pid=328)\u001b[0m Traceback (most recent call last):\n",
            "\u001b[2m\u001b[36m(_execute_read_task pid=328)\u001b[0m   File \"python/ray/_raylet.pyx\", line 662, in ray._raylet.execute_task\n",
            "\u001b[2m\u001b[36m(_execute_read_task pid=328)\u001b[0m   File \"python/ray/_raylet.pyx\", line 666, in ray._raylet.execute_task\n",
            "\u001b[2m\u001b[36m(_execute_read_task pid=328)\u001b[0m   File \"/usr/local/lib/python3.7/dist-packages/ray/data/_internal/lazy_block_list.py\", line 576, in _execute_read_task\n",
            "\u001b[2m\u001b[36m(_execute_read_task pid=328)\u001b[0m     block = task()\n",
            "\u001b[2m\u001b[36m(_execute_read_task pid=328)\u001b[0m   File \"/usr/local/lib/python3.7/dist-packages/ray/data/datasource/datasource.py\", line 202, in __call__\n",
            "\u001b[2m\u001b[36m(_execute_read_task pid=328)\u001b[0m     for block in result:\n",
            "\u001b[2m\u001b[36m(_execute_read_task pid=328)\u001b[0m   File \"/usr/local/lib/python3.7/dist-packages/ray/data/datasource/file_based_datasource.py\", line 427, in read_files\n",
            "\u001b[2m\u001b[36m(_execute_read_task pid=328)\u001b[0m     for data in read_stream(f, read_path, **reader_args):\n",
            "\u001b[2m\u001b[36m(_execute_read_task pid=328)\u001b[0m   File \"/usr/local/lib/python3.7/dist-packages/ray/data/datasource/csv_datasource.py\", line 42, in _read_stream\n",
            "\u001b[2m\u001b[36m(_execute_read_task pid=328)\u001b[0m     batch = reader.read_next_batch()\n",
            "\u001b[2m\u001b[36m(_execute_read_task pid=328)\u001b[0m   File \"pyarrow/ipc.pxi\", line 574, in pyarrow.lib.RecordBatchReader.read_next_batch\n",
            "\u001b[2m\u001b[36m(_execute_read_task pid=328)\u001b[0m   File \"pyarrow/error.pxi\", line 99, in pyarrow.lib.check_status\n",
            "\u001b[2m\u001b[36m(_execute_read_task pid=328)\u001b[0m pyarrow.lib.ArrowInvalid: CSV parse error: Row #2627299: Expected 16 columns, got 4: 1861,1745,Nuaghma,patri\n",
            "\u001b[2m\u001b[36m(_execute_read_task pid=328)\u001b[0m 2022-09-12 14:27:45,146\tINFO worker.py:756 -- Task failed with retryable exception: TaskID(239c2f70c73fbf73ffffffffffffffffffffffff01000000).\n",
            "\u001b[2m\u001b[36m(_execute_read_task pid=328)\u001b[0m Traceback (most recent call last):\n",
            "\u001b[2m\u001b[36m(_execute_read_task pid=328)\u001b[0m   File \"python/ray/_raylet.pyx\", line 662, in ray._raylet.execute_task\n",
            "\u001b[2m\u001b[36m(_execute_read_task pid=328)\u001b[0m   File \"python/ray/_raylet.pyx\", line 666, in ray._raylet.execute_task\n",
            "\u001b[2m\u001b[36m(_execute_read_task pid=328)\u001b[0m   File \"/usr/local/lib/python3.7/dist-packages/ray/data/_internal/lazy_block_list.py\", line 576, in _execute_read_task\n",
            "\u001b[2m\u001b[36m(_execute_read_task pid=328)\u001b[0m     block = task()\n",
            "\u001b[2m\u001b[36m(_execute_read_task pid=328)\u001b[0m   File \"/usr/local/lib/python3.7/dist-packages/ray/data/datasource/datasource.py\", line 202, in __call__\n",
            "\u001b[2m\u001b[36m(_execute_read_task pid=328)\u001b[0m     for block in result:\n",
            "\u001b[2m\u001b[36m(_execute_read_task pid=328)\u001b[0m   File \"/usr/local/lib/python3.7/dist-packages/ray/data/datasource/file_based_datasource.py\", line 427, in read_files\n",
            "\u001b[2m\u001b[36m(_execute_read_task pid=328)\u001b[0m     for data in read_stream(f, read_path, **reader_args):\n",
            "\u001b[2m\u001b[36m(_execute_read_task pid=328)\u001b[0m   File \"/usr/local/lib/python3.7/dist-packages/ray/data/datasource/csv_datasource.py\", line 42, in _read_stream\n",
            "\u001b[2m\u001b[36m(_execute_read_task pid=328)\u001b[0m     batch = reader.read_next_batch()\n",
            "\u001b[2m\u001b[36m(_execute_read_task pid=328)\u001b[0m   File \"pyarrow/ipc.pxi\", line 574, in pyarrow.lib.RecordBatchReader.read_next_batch\n",
            "\u001b[2m\u001b[36m(_execute_read_task pid=328)\u001b[0m   File \"pyarrow/error.pxi\", line 99, in pyarrow.lib.check_status\n",
            "\u001b[2m\u001b[36m(_execute_read_task pid=328)\u001b[0m pyarrow.lib.ArrowInvalid: CSV parse error: Row #2627299: Expected 16 columns, got 4: 1861,1745,Nuaghma,patri\n"
          ]
        },
        {
          "output_type": "error",
          "ename": "RayTaskError(ArrowInvalid)",
          "evalue": "ignored",
          "traceback": [
            "\u001b[0;31m---------------------------------------------------------------------------\u001b[0m",
            "\u001b[0;31mRayTaskError(ArrowInvalid)\u001b[0m                Traceback (most recent call last)",
            "\u001b[0;32m<ipython-input-26-de618a19bd2e>\u001b[0m in \u001b[0;36m<module>\u001b[0;34m\u001b[0m\n\u001b[1;32m      1\u001b[0m \u001b[0;32mimport\u001b[0m \u001b[0mray\u001b[0m\u001b[0;34m\u001b[0m\u001b[0;34m\u001b[0m\u001b[0m\n\u001b[0;32m----> 2\u001b[0;31m \u001b[0mds\u001b[0m \u001b[0;34m=\u001b[0m \u001b[0mray\u001b[0m\u001b[0;34m.\u001b[0m\u001b[0mdata\u001b[0m\u001b[0;34m.\u001b[0m\u001b[0mread_csv\u001b[0m\u001b[0;34m(\u001b[0m\u001b[0;34m\"Lichess_2013_2014_Complete.csv\"\u001b[0m\u001b[0;34m)\u001b[0m\u001b[0;34m\u001b[0m\u001b[0;34m\u001b[0m\u001b[0m\n\u001b[0m\u001b[1;32m      3\u001b[0m \u001b[0mds\u001b[0m\u001b[0;34m.\u001b[0m\u001b[0mhead\u001b[0m\u001b[0;34m(\u001b[0m\u001b[0;34m)\u001b[0m\u001b[0;34m\u001b[0m\u001b[0;34m\u001b[0m\u001b[0m\n",
            "\u001b[0;32m/usr/local/lib/python3.7/dist-packages/ray/data/read_api.py\u001b[0m in \u001b[0;36mread_csv\u001b[0;34m(paths, filesystem, parallelism, ray_remote_args, arrow_open_stream_args, meta_provider, partition_filter, **arrow_csv_args)\u001b[0m\n\u001b[1;32m    592\u001b[0m         \u001b[0mmeta_provider\u001b[0m\u001b[0;34m=\u001b[0m\u001b[0mmeta_provider\u001b[0m\u001b[0;34m,\u001b[0m\u001b[0;34m\u001b[0m\u001b[0;34m\u001b[0m\u001b[0m\n\u001b[1;32m    593\u001b[0m         \u001b[0mpartition_filter\u001b[0m\u001b[0;34m=\u001b[0m\u001b[0mpartition_filter\u001b[0m\u001b[0;34m,\u001b[0m\u001b[0;34m\u001b[0m\u001b[0;34m\u001b[0m\u001b[0m\n\u001b[0;32m--> 594\u001b[0;31m         \u001b[0;34m**\u001b[0m\u001b[0marrow_csv_args\u001b[0m\u001b[0;34m,\u001b[0m\u001b[0;34m\u001b[0m\u001b[0;34m\u001b[0m\u001b[0m\n\u001b[0m\u001b[1;32m    595\u001b[0m     )\n\u001b[1;32m    596\u001b[0m \u001b[0;34m\u001b[0m\u001b[0m\n",
            "\u001b[0;32m/usr/local/lib/python3.7/dist-packages/ray/data/read_api.py\u001b[0m in \u001b[0;36mread_datasource\u001b[0;34m(datasource, parallelism, ray_remote_args, **read_args)\u001b[0m\n\u001b[1;32m    310\u001b[0m     )\n\u001b[1;32m    311\u001b[0m     \u001b[0mblock_list\u001b[0m\u001b[0;34m.\u001b[0m\u001b[0mcompute_first_block\u001b[0m\u001b[0;34m(\u001b[0m\u001b[0;34m)\u001b[0m\u001b[0;34m\u001b[0m\u001b[0;34m\u001b[0m\u001b[0m\n\u001b[0;32m--> 312\u001b[0;31m     \u001b[0mblock_list\u001b[0m\u001b[0;34m.\u001b[0m\u001b[0mensure_metadata_for_first_block\u001b[0m\u001b[0;34m(\u001b[0m\u001b[0;34m)\u001b[0m\u001b[0;34m\u001b[0m\u001b[0;34m\u001b[0m\u001b[0m\n\u001b[0m\u001b[1;32m    313\u001b[0m \u001b[0;34m\u001b[0m\u001b[0m\n\u001b[1;32m    314\u001b[0m     return Dataset(\n",
            "\u001b[0;32m/usr/local/lib/python3.7/dist-packages/ray/data/_internal/lazy_block_list.py\u001b[0m in \u001b[0;36mensure_metadata_for_first_block\u001b[0;34m(self)\u001b[0m\n\u001b[1;32m    369\u001b[0m         \u001b[0;32melse\u001b[0m\u001b[0;34m:\u001b[0m\u001b[0;34m\u001b[0m\u001b[0;34m\u001b[0m\u001b[0m\n\u001b[1;32m    370\u001b[0m             \u001b[0;31m# This blocks until the underlying read task is finished.\u001b[0m\u001b[0;34m\u001b[0m\u001b[0;34m\u001b[0m\u001b[0;34m\u001b[0m\u001b[0m\n\u001b[0;32m--> 371\u001b[0;31m             \u001b[0mmetadata\u001b[0m \u001b[0;34m=\u001b[0m \u001b[0mray\u001b[0m\u001b[0;34m.\u001b[0m\u001b[0mget\u001b[0m\u001b[0;34m(\u001b[0m\u001b[0mmetadata_ref\u001b[0m\u001b[0;34m)\u001b[0m\u001b[0;34m\u001b[0m\u001b[0;34m\u001b[0m\u001b[0m\n\u001b[0m\u001b[1;32m    372\u001b[0m             \u001b[0mself\u001b[0m\u001b[0;34m.\u001b[0m\u001b[0m_cached_metadata\u001b[0m\u001b[0;34m[\u001b[0m\u001b[0;36m0\u001b[0m\u001b[0;34m]\u001b[0m \u001b[0;34m=\u001b[0m \u001b[0mmetadata\u001b[0m\u001b[0;34m\u001b[0m\u001b[0;34m\u001b[0m\u001b[0m\n\u001b[1;32m    373\u001b[0m         \u001b[0;32mreturn\u001b[0m \u001b[0mmetadata\u001b[0m\u001b[0;34m\u001b[0m\u001b[0;34m\u001b[0m\u001b[0m\n",
            "\u001b[0;32m/usr/local/lib/python3.7/dist-packages/ray/_private/client_mode_hook.py\u001b[0m in \u001b[0;36mwrapper\u001b[0;34m(*args, **kwargs)\u001b[0m\n\u001b[1;32m    103\u001b[0m             \u001b[0;32mif\u001b[0m \u001b[0mfunc\u001b[0m\u001b[0;34m.\u001b[0m\u001b[0m__name__\u001b[0m \u001b[0;34m!=\u001b[0m \u001b[0;34m\"init\"\u001b[0m \u001b[0;32mor\u001b[0m \u001b[0mis_client_mode_enabled_by_default\u001b[0m\u001b[0;34m:\u001b[0m\u001b[0;34m\u001b[0m\u001b[0;34m\u001b[0m\u001b[0m\n\u001b[1;32m    104\u001b[0m                 \u001b[0;32mreturn\u001b[0m \u001b[0mgetattr\u001b[0m\u001b[0;34m(\u001b[0m\u001b[0mray\u001b[0m\u001b[0;34m,\u001b[0m \u001b[0mfunc\u001b[0m\u001b[0;34m.\u001b[0m\u001b[0m__name__\u001b[0m\u001b[0;34m)\u001b[0m\u001b[0;34m(\u001b[0m\u001b[0;34m*\u001b[0m\u001b[0margs\u001b[0m\u001b[0;34m,\u001b[0m \u001b[0;34m**\u001b[0m\u001b[0mkwargs\u001b[0m\u001b[0;34m)\u001b[0m\u001b[0;34m\u001b[0m\u001b[0;34m\u001b[0m\u001b[0m\n\u001b[0;32m--> 105\u001b[0;31m         \u001b[0;32mreturn\u001b[0m \u001b[0mfunc\u001b[0m\u001b[0;34m(\u001b[0m\u001b[0;34m*\u001b[0m\u001b[0margs\u001b[0m\u001b[0;34m,\u001b[0m \u001b[0;34m**\u001b[0m\u001b[0mkwargs\u001b[0m\u001b[0;34m)\u001b[0m\u001b[0;34m\u001b[0m\u001b[0;34m\u001b[0m\u001b[0m\n\u001b[0m\u001b[1;32m    106\u001b[0m \u001b[0;34m\u001b[0m\u001b[0m\n\u001b[1;32m    107\u001b[0m     \u001b[0;32mreturn\u001b[0m \u001b[0mwrapper\u001b[0m\u001b[0;34m\u001b[0m\u001b[0;34m\u001b[0m\u001b[0m\n",
            "\u001b[0;32m/usr/local/lib/python3.7/dist-packages/ray/_private/worker.py\u001b[0m in \u001b[0;36mget\u001b[0;34m(object_refs, timeout)\u001b[0m\n\u001b[1;32m   2273\u001b[0m                     \u001b[0mworker\u001b[0m\u001b[0;34m.\u001b[0m\u001b[0mcore_worker\u001b[0m\u001b[0;34m.\u001b[0m\u001b[0mdump_object_store_memory_usage\u001b[0m\u001b[0;34m(\u001b[0m\u001b[0;34m)\u001b[0m\u001b[0;34m\u001b[0m\u001b[0;34m\u001b[0m\u001b[0m\n\u001b[1;32m   2274\u001b[0m                 \u001b[0;32mif\u001b[0m \u001b[0misinstance\u001b[0m\u001b[0;34m(\u001b[0m\u001b[0mvalue\u001b[0m\u001b[0;34m,\u001b[0m \u001b[0mRayTaskError\u001b[0m\u001b[0;34m)\u001b[0m\u001b[0;34m:\u001b[0m\u001b[0;34m\u001b[0m\u001b[0;34m\u001b[0m\u001b[0m\n\u001b[0;32m-> 2275\u001b[0;31m                     \u001b[0;32mraise\u001b[0m \u001b[0mvalue\u001b[0m\u001b[0;34m.\u001b[0m\u001b[0mas_instanceof_cause\u001b[0m\u001b[0;34m(\u001b[0m\u001b[0;34m)\u001b[0m\u001b[0;34m\u001b[0m\u001b[0;34m\u001b[0m\u001b[0m\n\u001b[0m\u001b[1;32m   2276\u001b[0m                 \u001b[0;32melse\u001b[0m\u001b[0;34m:\u001b[0m\u001b[0;34m\u001b[0m\u001b[0;34m\u001b[0m\u001b[0m\n\u001b[1;32m   2277\u001b[0m                     \u001b[0;32mraise\u001b[0m \u001b[0mvalue\u001b[0m\u001b[0;34m\u001b[0m\u001b[0;34m\u001b[0m\u001b[0m\n",
            "\u001b[0;31mRayTaskError(ArrowInvalid)\u001b[0m: \u001b[36mray::_execute_read_task()\u001b[39m (pid=328, ip=172.28.0.2)\n  File \"/usr/local/lib/python3.7/dist-packages/ray/data/_internal/lazy_block_list.py\", line 576, in _execute_read_task\n    block = task()\n  File \"/usr/local/lib/python3.7/dist-packages/ray/data/datasource/datasource.py\", line 202, in __call__\n    for block in result:\n  File \"/usr/local/lib/python3.7/dist-packages/ray/data/datasource/file_based_datasource.py\", line 427, in read_files\n    for data in read_stream(f, read_path, **reader_args):\n  File \"/usr/local/lib/python3.7/dist-packages/ray/data/datasource/csv_datasource.py\", line 42, in _read_stream\n    batch = reader.read_next_batch()\n  File \"pyarrow/ipc.pxi\", line 574, in pyarrow.lib.RecordBatchReader.read_next_batch\n  File \"pyarrow/error.pxi\", line 99, in pyarrow.lib.check_status\npyarrow.lib.ArrowInvalid: CSV parse error: Row #2627299: Expected 16 columns, got 4: 1861,1745,Nuaghma,patri"
          ]
        },
        {
          "output_type": "stream",
          "name": "stderr",
          "text": [
            "\u001b[2m\u001b[36m(_execute_read_task pid=328)\u001b[0m 2022-09-12 14:27:49,154\tINFO worker.py:756 -- Task failed with retryable exception: TaskID(239c2f70c73fbf73ffffffffffffffffffffffff01000000).\n",
            "\u001b[2m\u001b[36m(_execute_read_task pid=328)\u001b[0m Traceback (most recent call last):\n",
            "\u001b[2m\u001b[36m(_execute_read_task pid=328)\u001b[0m   File \"python/ray/_raylet.pyx\", line 662, in ray._raylet.execute_task\n",
            "\u001b[2m\u001b[36m(_execute_read_task pid=328)\u001b[0m   File \"python/ray/_raylet.pyx\", line 666, in ray._raylet.execute_task\n",
            "\u001b[2m\u001b[36m(_execute_read_task pid=328)\u001b[0m   File \"/usr/local/lib/python3.7/dist-packages/ray/data/_internal/lazy_block_list.py\", line 576, in _execute_read_task\n",
            "\u001b[2m\u001b[36m(_execute_read_task pid=328)\u001b[0m     block = task()\n",
            "\u001b[2m\u001b[36m(_execute_read_task pid=328)\u001b[0m   File \"/usr/local/lib/python3.7/dist-packages/ray/data/datasource/datasource.py\", line 202, in __call__\n",
            "\u001b[2m\u001b[36m(_execute_read_task pid=328)\u001b[0m     for block in result:\n",
            "\u001b[2m\u001b[36m(_execute_read_task pid=328)\u001b[0m   File \"/usr/local/lib/python3.7/dist-packages/ray/data/datasource/file_based_datasource.py\", line 427, in read_files\n",
            "\u001b[2m\u001b[36m(_execute_read_task pid=328)\u001b[0m     for data in read_stream(f, read_path, **reader_args):\n",
            "\u001b[2m\u001b[36m(_execute_read_task pid=328)\u001b[0m   File \"/usr/local/lib/python3.7/dist-packages/ray/data/datasource/csv_datasource.py\", line 42, in _read_stream\n",
            "\u001b[2m\u001b[36m(_execute_read_task pid=328)\u001b[0m     batch = reader.read_next_batch()\n",
            "\u001b[2m\u001b[36m(_execute_read_task pid=328)\u001b[0m   File \"pyarrow/ipc.pxi\", line 574, in pyarrow.lib.RecordBatchReader.read_next_batch\n",
            "\u001b[2m\u001b[36m(_execute_read_task pid=328)\u001b[0m   File \"pyarrow/error.pxi\", line 99, in pyarrow.lib.check_status\n",
            "\u001b[2m\u001b[36m(_execute_read_task pid=328)\u001b[0m pyarrow.lib.ArrowInvalid: CSV parse error: Row #2627299: Expected 16 columns, got 4: 1861,1745,Nuaghma,patri\n"
          ]
        }
      ]
    },
    {
      "cell_type": "markdown",
      "source": [
        "\n",
        "\n",
        "```\n",
        "# `Ce texte est au format code`\n",
        "```\n",
        "\n",
        "#Summary"
      ],
      "metadata": {
        "id": "FSMiaPfkc34H"
      }
    },
    {
      "cell_type": "code",
      "source": [
        "num_rows = len(df_sample.index)\n",
        "num_cols = len(df_sample.columns)\n",
        "file_size = '2GB'\n",
        "\n",
        "time_pandas = '33s'\n",
        "time_wYAML = '29s'\n",
        "time_dask = '2s'\n"
      ],
      "metadata": {
        "id": "67aSIigBdMyO"
      },
      "execution_count": 27,
      "outputs": []
    },
    {
      "cell_type": "code",
      "source": [
        "print(f'Total number of rows: {num_rows}')\n",
        "print(f'Total number of columns: {num_cols}')\n",
        "print(f'File Size: {file_size}')\n",
        "print(f'Time for pandas read_csv: {time_pandas}')\n",
        "print(f'Time for read_csv with YAML config: {time_wYAML}')\n",
        "print(f'Time for dask read_csv: {time_dask}')"
      ],
      "metadata": {
        "colab": {
          "base_uri": "https://localhost:8080/"
        },
        "id": "fZ2474tXdGmu",
        "outputId": "bc4d9b4d-de5d-4419-be44-a1abaf5f5caa"
      },
      "execution_count": 28,
      "outputs": [
        {
          "output_type": "stream",
          "name": "stdout",
          "text": [
            "Total number of rows: 71333\n",
            "Total number of columns: 16\n",
            "File Size: 2GB\n",
            "Time for pandas read_csv: 33s\n",
            "Time for read_csv with YAML config: 29s\n",
            "Time for dask read_csv: 2s\n"
          ]
        }
      ]
    },
    {
      "cell_type": "code",
      "source": [],
      "metadata": {
        "id": "QwBAFNIneCFr"
      },
      "execution_count": null,
      "outputs": []
    }
  ]
}